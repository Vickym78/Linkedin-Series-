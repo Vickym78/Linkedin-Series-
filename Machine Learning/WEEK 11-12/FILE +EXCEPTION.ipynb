{
 "cells": [
  {
   "cell_type": "markdown",
   "id": "7eff4cb7",
   "metadata": {},
   "source": [
    "# File= open('file_name/path','mode')"
   ]
  },
  {
   "cell_type": "code",
   "execution_count": 1,
   "id": "018a963c",
   "metadata": {},
   "outputs": [],
   "source": [
    "data =['abc \\n','xyz']\n",
    "file= open('demo.txt','w')\n",
    "file.writelines(data)\n",
    "file.close()"
   ]
  },
  {
   "cell_type": "code",
   "execution_count": 2,
   "id": "b9e8249f",
   "metadata": {},
   "outputs": [
    {
     "name": "stdout",
     "output_type": "stream",
     "text": [
      "['abc \\n', 'xyz']\n"
     ]
    }
   ],
   "source": [
    "file= open('demo.txt','r')\n",
    "content=file.readlines()\n",
    "print(content)"
   ]
  },
  {
   "cell_type": "code",
   "execution_count": 3,
   "id": "924fc201",
   "metadata": {},
   "outputs": [],
   "source": [
    "with open('demo.txt','w') as  file:\n",
    "    file.writelines(\"This is a kindergarten ,and we are owner of this kindergarten\")"
   ]
  },
  {
   "cell_type": "code",
   "execution_count": 4,
   "id": "9fcd5203",
   "metadata": {},
   "outputs": [
    {
     "name": "stdout",
     "output_type": "stream",
     "text": [
      "['T']\n",
      "['h']\n",
      "['i']\n",
      "['s']\n",
      "[]\n",
      "['i']\n",
      "['s']\n",
      "[]\n",
      "['a']\n",
      "[]\n",
      "['k']\n",
      "['i']\n",
      "['n']\n",
      "['d']\n",
      "['e']\n",
      "['r']\n",
      "['g']\n",
      "['a']\n",
      "['r']\n",
      "['t']\n",
      "['e']\n",
      "['n']\n",
      "[]\n",
      "[',']\n",
      "['a']\n",
      "['n']\n",
      "['d']\n",
      "[]\n",
      "['w']\n",
      "['e']\n",
      "[]\n",
      "['a']\n",
      "['r']\n",
      "['e']\n",
      "[]\n",
      "['o']\n",
      "['w']\n",
      "['n']\n",
      "['e']\n",
      "['r']\n",
      "[]\n",
      "['o']\n",
      "['f']\n",
      "[]\n",
      "['t']\n",
      "['h']\n",
      "['i']\n",
      "['s']\n",
      "[]\n",
      "['k']\n",
      "['i']\n",
      "['n']\n",
      "['d']\n",
      "['e']\n",
      "['r']\n",
      "['g']\n",
      "['a']\n",
      "['r']\n",
      "['t']\n",
      "['e']\n",
      "['n']\n"
     ]
    }
   ],
   "source": [
    "# write every letter\n",
    "with open('demo.txt','r') as file:\n",
    "    content=file.read()\n",
    "    for line in content:\n",
    "        data=line.split()\n",
    "        print(data)"
   ]
  },
  {
   "cell_type": "code",
   "execution_count": 5,
   "id": "d9d503e7",
   "metadata": {},
   "outputs": [
    {
     "name": "stdout",
     "output_type": "stream",
     "text": [
      "['This', 'is', 'a', 'kindergarten', ',and', 'we', 'are', 'owner', 'of', 'this', 'kindergarten']\n"
     ]
    }
   ],
   "source": [
    "# write every word\n",
    "with open('demo.txt','r') as file:\n",
    "    content=file.readlines()\n",
    "    for line in content:\n",
    "        data=line.split()\n",
    "        print(data)"
   ]
  },
  {
   "cell_type": "markdown",
   "id": "ded34fa9",
   "metadata": {},
   "source": [
    "#Making function for create and  read  a file"
   ]
  },
  {
   "cell_type": "code",
   "execution_count": 6,
   "id": "06543e5f",
   "metadata": {},
   "outputs": [
    {
     "name": "stdout",
     "output_type": "stream",
     "text": [
      "Enter your  file name: vicky\n",
      "Write content  for data : My name  is Vicky ,How are you guys?\n",
      "file vicky created succesfully\n"
     ]
    }
   ],
   "source": [
    "def create(file_name,data):\n",
    "    with open('file_name.txt', 'w') as file:\n",
    "        file.writelines(data)\n",
    "        print(f\"file {file_name} created succesfully\")\n",
    "        \n",
    "        \n",
    "def reading(file_name):\n",
    "    with open('file_name.txt', 'r') as file:\n",
    "        content=file.readlines()\n",
    "        for line in content:\n",
    "            print(line)\n",
    "\n",
    "        \n",
    "\n",
    "file_name= input(\"Enter your  file name: \")\n",
    "data =input(\"Write content  for data : \")\n",
    "create(file_name,data)"
   ]
  },
  {
   "cell_type": "code",
   "execution_count": 7,
   "id": "7a81dd14",
   "metadata": {},
   "outputs": [
    {
     "name": "stdout",
     "output_type": "stream",
     "text": [
      "My name  is Vicky ,How are you guys?\n"
     ]
    }
   ],
   "source": [
    "reading(file_name)"
   ]
  },
  {
   "cell_type": "code",
   "execution_count": 8,
   "id": "5ebc644e",
   "metadata": {},
   "outputs": [],
   "source": [
    "#count no of character\n",
    "def count(file_name):\n",
    "    with open('file_name.txt','r') as file:\n",
    "        content= file.readline()\n",
    "        print(f\"the no. of words in file {file_name} is : \" ,len(content))\n"
   ]
  },
  {
   "cell_type": "code",
   "execution_count": 9,
   "id": "9495aa06",
   "metadata": {},
   "outputs": [
    {
     "name": "stdout",
     "output_type": "stream",
     "text": [
      "the no. of words in file vicky is :  36\n"
     ]
    }
   ],
   "source": [
    "count(file_name)"
   ]
  },
  {
   "cell_type": "code",
   "execution_count": 10,
   "id": "c5b1725f",
   "metadata": {},
   "outputs": [
    {
     "name": "stdout",
     "output_type": "stream",
     "text": [
      "the no. of words in file vicky is : 8\n"
     ]
    }
   ],
   "source": [
    "def word(file_name):\n",
    "    with open('file_name.txt','r') as file:\n",
    "        content=file.read()\n",
    "        words=content.split()\n",
    "        worl=len(words)\n",
    "        print(f\"the no. of words in file {file_name} is : {worl}\")\n",
    "            \n",
    "word(file_name)"
   ]
  },
  {
   "cell_type": "code",
   "execution_count": 11,
   "id": "001e5996",
   "metadata": {},
   "outputs": [],
   "source": [
    "#suppose file is not exit \n"
   ]
  },
  {
   "cell_type": "code",
   "execution_count": 22,
   "id": "0f202072",
   "metadata": {},
   "outputs": [],
   "source": [
    "def readi(file_name):\n",
    "    try: \n",
    "        with open('file_name.txt', 'r') as file:  # Use the file_name parameter\n",
    "            content = file.readlines()\n",
    "            for line in content:\n",
    "                print(line)\n",
    "    \n",
    "    except FileNotFoundError:\n",
    "        print(f\"{file_name} does not exist. Please create the file.\")\n",
    "    except Exception as e:\n",
    "        print(f\"An error occurred: {e}\")\n",
    "\n",
    "# Example usage:\n",
    "# reading(\"example.txt\")  # Replace \"example.txt\" with the name of your file\n"
   ]
  },
  {
   "cell_type": "code",
   "execution_count": 23,
   "id": "0b255432",
   "metadata": {},
   "outputs": [
    {
     "name": "stdout",
     "output_type": "stream",
     "text": [
      "My name  is Vicky ,How are you guys?\n"
     ]
    }
   ],
   "source": [
    "readi('vicky')"
   ]
  },
  {
   "cell_type": "code",
   "execution_count": 25,
   "id": "0de7dc13",
   "metadata": {},
   "outputs": [
    {
     "name": "stdout",
     "output_type": "stream",
     "text": [
      "My name  is Vicky ,How are you guys?\n"
     ]
    }
   ],
   "source": [
    "readi('xty')"
   ]
  },
  {
   "cell_type": "code",
   "execution_count": 29,
   "id": "569fb3f8",
   "metadata": {},
   "outputs": [
    {
     "name": "stdout",
     "output_type": "stream",
     "text": [
      "0.75\n"
     ]
    }
   ],
   "source": [
    "# write a program where  a  number  is diuvisble by 0 or  not\n",
    "def check(num1,num2):\n",
    "    try:\n",
    "        ans =num1/num2\n",
    "        print(ans)\n",
    "    except Exception as e:\n",
    "        print(\"Error \",{e})\n",
    "        \n",
    "check(3,4)\n",
    "    "
   ]
  },
  {
   "cell_type": "code",
   "execution_count": 30,
   "id": "58415bce",
   "metadata": {},
   "outputs": [
    {
     "name": "stdout",
     "output_type": "stream",
     "text": [
      "Error  {ZeroDivisionError('division by zero')}\n"
     ]
    }
   ],
   "source": [
    "check(1,0)"
   ]
  },
  {
   "cell_type": "code",
   "execution_count": null,
   "id": "90d08b3a",
   "metadata": {},
   "outputs": [],
   "source": []
  }
 ],
 "metadata": {
  "kernelspec": {
   "display_name": "Python 3 (ipykernel)",
   "language": "python",
   "name": "python3"
  },
  "language_info": {
   "codemirror_mode": {
    "name": "ipython",
    "version": 3
   },
   "file_extension": ".py",
   "mimetype": "text/x-python",
   "name": "python",
   "nbconvert_exporter": "python",
   "pygments_lexer": "ipython3",
   "version": "3.11.4"
  }
 },
 "nbformat": 4,
 "nbformat_minor": 5
}
